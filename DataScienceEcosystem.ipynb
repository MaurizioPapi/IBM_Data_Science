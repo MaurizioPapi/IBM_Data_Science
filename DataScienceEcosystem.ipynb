{
 "cells": [
  {
   "cell_type": "markdown",
   "id": "da8d123d-5f91-44db-8c5f-be78b1e07e38",
   "metadata": {},
   "source": [
    "# Data Science Tools and Ecosystem"
   ]
  },
  {
   "cell_type": "markdown",
   "id": "b16df524-7251-4a5a-939a-54b12eea8ed9",
   "metadata": {},
   "source": [
    "In this notebook, Data Science Tools and Ecosystem are summarized."
   ]
  },
  {
   "cell_type": "markdown",
   "id": "b239a067-6cc3-45c7-b5c0-293f4b4d684f",
   "metadata": {},
   "source": [
    "- List popular languages for Data Science\n",
    "- List of the commonly used libraries used by Data Scientists\n",
    "- Table with Data Science Tools\n",
    "- few examples of evaluating arithmetic expressions in Python"
   ]
  },
  {
   "cell_type": "markdown",
   "id": "0c20285f-b1e5-4647-a523-5ff753949ab6",
   "metadata": {},
   "source": [
    "Some of the popular languages that Data Scientists use are:\n",
    "1. Python\n",
    "2. R\n",
    "3. Julia\n",
    "4. C++\n",
    "5. Matlab"
   ]
  },
  {
   "cell_type": "markdown",
   "id": "d48c6035-f8c5-48f1-8cb8-d5657b4cb42e",
   "metadata": {},
   "source": [
    "Some of the commonly used libraries used by Data Scientists include:\n",
    "- Numpy\n",
    "- Pandas\n",
    "- MatPlotLib\n",
    "- SciKit-Learn"
   ]
  },
  {
   "cell_type": "markdown",
   "id": "3dc9eb4f-d4b2-4bca-81ca-adacdd93a360",
   "metadata": {},
   "source": [
    "| Data Science Tools      |\n",
    "|------------------------|\n",
    "| MySQL                  |\n",
    "| Power BI               |\n",
    "| Watson Studio          |  |\r\n"
   ]
  },
  {
   "cell_type": "markdown",
   "id": "a5349325-8c15-4405-bbd2-2e85d790944e",
   "metadata": {},
   "source": [
    "### Below are a few examples of evaluating arithmetic expressions in Python"
   ]
  },
  {
   "cell_type": "code",
   "execution_count": 2,
   "id": "8c6cc24b-beff-4dc6-ae5b-c5bd988726df",
   "metadata": {},
   "outputs": [
    {
     "data": {
      "text/plain": [
       "17"
      ]
     },
     "execution_count": 2,
     "metadata": {},
     "output_type": "execute_result"
    }
   ],
   "source": [
    "# This a simple arithmetic expression to mutiply then add integers\n",
    "(3 * 4) + 5"
   ]
  },
  {
   "cell_type": "code",
   "execution_count": 3,
   "id": "b9740dac-5f1d-4742-ba62-65d70ca59f91",
   "metadata": {},
   "outputs": [
    {
     "data": {
      "text/plain": [
       "3.3333333333333335"
      ]
     },
     "execution_count": 3,
     "metadata": {},
     "output_type": "execute_result"
    }
   ],
   "source": [
    "# This will convert 200 minutes to hours by diving by 60\n",
    "minutes = 200\n",
    "hours = minutes / 60\n",
    "hours"
   ]
  },
  {
   "cell_type": "markdown",
   "id": "1b134770-1a5a-45f0-a47d-07a08e507053",
   "metadata": {},
   "source": [
    "## Author\r",
    "Maurizio P\r\n"
   ]
  }
 ],
 "metadata": {
  "kernelspec": {
   "display_name": "Python 3 (ipykernel)",
   "language": "python",
   "name": "python3"
  },
  "language_info": {
   "codemirror_mode": {
    "name": "ipython",
    "version": 3
   },
   "file_extension": ".py",
   "mimetype": "text/x-python",
   "name": "python",
   "nbconvert_exporter": "python",
   "pygments_lexer": "ipython3",
   "version": "3.9.1"
  }
 },
 "nbformat": 4,
 "nbformat_minor": 5
}
